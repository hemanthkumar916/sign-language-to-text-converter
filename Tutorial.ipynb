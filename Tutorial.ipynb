{
 "cells": [
  {
   "cell_type": "markdown",
   "metadata": {},
   "source": [
    "Resources Used\n",
    "- wget.download('https://tensorflow-object-detection-api-tutorial.readthedocs.io/en/latest/_downloads/da4babe668a8afb093cc7776d7e630f3/generate_tfrecord.py')\n",
    "- Setup https://tensorflow-object-detection-api-tutorial.readthedocs.io/en/latest/install.html"
   ]
  },
  {
   "cell_type": "code",
   "execution_count": 2,
   "metadata": {},
   "outputs": [
    {
     "name": "stdout",
     "output_type": "stream",
     "text": [
      "✅ PYTHONPATH and sys.path updated successfully!\n"
     ]
    }
   ],
   "source": [
    "import os\n",
    "import sys\n",
    "\n",
    "# Define your paths\n",
    "paths = [\n",
    "    r\"C:\\Users\\khema\\RealTimeObjectDetection-main\\Tensorflow\\models\",\n",
    "    r\"C:\\Users\\khema\\RealTimeObjectDetection-main\\Tensorflow\\models\\research\",\n",
    "    r\"C:\\Users\\khema\\RealTimeObjectDetection-main\\Tensorflow\\models\\research\\slim\"\n",
    "]\n",
    "\n",
    "# Initialize PYTHONPATH if it doesn't exist\n",
    "if 'PYTHONPATH' not in os.environ:\n",
    "    os.environ['PYTHONPATH'] = \"\"\n",
    "\n",
    "# Add paths to PYTHONPATH\n",
    "os.environ['PYTHONPATH'] += \";\" + \";\".join(paths)\n",
    "\n",
    "# Add paths to sys.path for Jupyter notebook runtime\n",
    "for p in paths:\n",
    "    if p not in sys.path:\n",
    "        sys.path.append(p)\n",
    "\n",
    "print(\"✅ PYTHONPATH and sys.path updated successfully!\")\n"
   ]
  },
  {
   "cell_type": "markdown",
   "metadata": {},
   "source": [
    "# 0. Setup Paths"
   ]
  },
  {
   "cell_type": "code",
   "execution_count": 4,
   "metadata": {},
   "outputs": [],
   "source": [
    "WORKSPACE_PATH = r'C:\\Users\\khema\\RealTimeObjectDetection-main\\Tensorflow\\workspace'\n",
    "SCRIPTS_PATH = r'C:\\Users\\khema\\RealTimeObjectDetection-main\\Tensorflow\\scripts'\n",
    "APIMODEL_PATH = r'C:\\Users\\khema\\RealTimeObjectDetection-main\\Tensorflow\\models'\n",
    "ANNOTATION_PATH = WORKSPACE_PATH + r'\\annotations'\n",
    "IMAGE_PATH = WORKSPACE_PATH + r'\\images'\n",
    "MODEL_PATH = WORKSPACE_PATH + r'\\models'\n",
    "PRETRAINED_MODEL_PATH = WORKSPACE_PATH + r'\\pre-trained-models'\n",
    "CONFIG_PATH = MODEL_PATH + r'\\my_ssd_mobnet\\pipeline.config'\n",
    "CHECKPOINT_PATH = MODEL_PATH + r'\\my_ssd_mobnet'\n"
   ]
  },
  {
   "cell_type": "markdown",
   "metadata": {},
   "source": [
    "# 1. Create Label Map"
   ]
  },
  {
   "cell_type": "code",
   "execution_count": 6,
   "metadata": {},
   "outputs": [],
   "source": [
    "labels = [\n",
    "    {'name': 'hello', 'id': 1},\n",
    "    {'name': 'yes', 'id': 2},\n",
    "    {'name': 'no', 'id': 3},\n",
    "    {'name': 'thanks', 'id': 4},\n",
    "    {'name': 'i love you', 'id': 5},\n",
    "    {'name': 'help', 'id': 6},\n",
    "    {'name': 'together', 'id': 7},\n",
    "    {'name': 'good luck', 'id': 8},\n",
    "    {'name': 'good', 'id': 9},\n",
    "    {'name': 'please', 'id': 10},\n",
    "    {'name': 'hope', 'id': 11},\n",
    "    {'name': 'danger', 'id': 12}\n",
    "]\n",
    "\n",
    "\n",
    "with open(ANNOTATION_PATH + r'\\label_map.pbtxt', 'w') as f:\n",
    "    for label in labels:\n",
    "        f.write('item {\\n')\n",
    "        f.write('  id: {}\\n'.format(label['id']))\n",
    "        f.write('  name: \"{}\"\\n'.format(label['name']))\n",
    "        f.write('}\\n\\n')\n"
   ]
  },
  {
   "cell_type": "markdown",
   "metadata": {},
   "source": [
    "# 2. Create TF records"
   ]
  },
  {
   "cell_type": "code",
   "execution_count": 8,
   "metadata": {},
   "outputs": [
    {
     "name": "stdout",
     "output_type": "stream",
     "text": [
      "Successfully created the TFRecord file: C:\\Users\\khema\\RealTimeObjectDetection-main\\Tensorflow\\workspace\\annotations\\\\train.record\n"
     ]
    },
    {
     "name": "stderr",
     "output_type": "stream",
     "text": [
      "2025-03-21 10:56:33.330760: I tensorflow/core/util/port.cc:153] oneDNN custom operations are on. You may see slightly different numerical results due to floating-point round-off errors from different computation orders. To turn them off, set the environment variable `TF_ENABLE_ONEDNN_OPTS=0`.\n",
      "2025-03-21 10:56:37.072985: I tensorflow/core/util/port.cc:153] oneDNN custom operations are on. You may see slightly different numerical results due to floating-point round-off errors from different computation orders. To turn them off, set the environment variable `TF_ENABLE_ONEDNN_OPTS=0`.\n"
     ]
    },
    {
     "name": "stdout",
     "output_type": "stream",
     "text": [
      "Successfully created the TFRecord file: C:\\Users\\khema\\RealTimeObjectDetection-main\\Tensorflow\\workspace\\annotations\\\\test.record\n"
     ]
    },
    {
     "name": "stderr",
     "output_type": "stream",
     "text": [
      "2025-03-21 10:56:56.702532: I tensorflow/core/util/port.cc:153] oneDNN custom operations are on. You may see slightly different numerical results due to floating-point round-off errors from different computation orders. To turn them off, set the environment variable `TF_ENABLE_ONEDNN_OPTS=0`.\n",
      "2025-03-21 10:56:58.269663: I tensorflow/core/util/port.cc:153] oneDNN custom operations are on. You may see slightly different numerical results due to floating-point round-off errors from different computation orders. To turn them off, set the environment variable `TF_ENABLE_ONEDNN_OPTS=0`.\n"
     ]
    }
   ],
   "source": [
    "!python \"{SCRIPTS_PATH}\\\\generate_tfrecord.py\" -x \"{IMAGE_PATH}\\\\train\" -l \"{ANNOTATION_PATH}\\\\label_map.pbtxt\" -o \"{ANNOTATION_PATH}\\\\train.record\"\n",
    "\n",
    "!python \"{SCRIPTS_PATH}\\\\generate_tfrecord.py\" -x \"{IMAGE_PATH}\\\\test\" -l \"{ANNOTATION_PATH}\\\\label_map.pbtxt\" -o \"{ANNOTATION_PATH}\\\\test.record\"\n"
   ]
  },
  {
   "cell_type": "markdown",
   "metadata": {},
   "source": [
    "# 3. Download TF Models Pretrained Models from Tensorflow Model Zoo"
   ]
  },
  {
   "cell_type": "code",
   "execution_count": 10,
   "metadata": {},
   "outputs": [
    {
     "name": "stderr",
     "output_type": "stream",
     "text": [
      "fatal: destination path 'models' already exists and is not an empty directory.\n"
     ]
    }
   ],
   "source": [
    "!cd Tensorflow && git clone https://github.com/tensorflow/models"
   ]
  },
  {
   "cell_type": "code",
   "execution_count": 11,
   "metadata": {},
   "outputs": [],
   "source": [
    "#wget.download('http://download.tensorflow.org/models/object_detection/tf2/20200711/ssd_mobilenet_v2_fpnlite_320x320_coco17_tpu-8.tar.gz')\n",
    "#!mv ssd_mobilenet_v2_fpnlite_320x320_coco17_tpu-8.tar.gz {PRETRAINED_MODEL_PATH}\n",
    "#!cd {PRETRAINED_MODEL_PATH} && tar -zxvf ssd_mobilenet_v2_fpnlite_320x320_coco17_tpu-8.tar.gz"
   ]
  },
  {
   "cell_type": "markdown",
   "metadata": {},
   "source": [
    "# 4. Copy Model Config to Training Folder"
   ]
  },
  {
   "cell_type": "code",
   "execution_count": 13,
   "metadata": {},
   "outputs": [],
   "source": [
    "CUSTOM_MODEL_NAME = 'my_ssd_mobnet' "
   ]
  },
  {
   "cell_type": "code",
   "execution_count": 14,
   "metadata": {},
   "outputs": [
    {
     "data": {
      "text/plain": [
       "'Tensorflow/workspace/models\\\\my_ssd_mobnet\\\\pipeline.config'"
      ]
     },
     "execution_count": 14,
     "metadata": {},
     "output_type": "execute_result"
    }
   ],
   "source": [
    "import os\n",
    "import shutil\n",
    "\n",
    "CUSTOM_MODEL_NAME = 'my_ssd_mobnet'\n",
    "PRETRAINED_MODEL_PATH = 'Tensorflow/workspace/pre-trained-models'\n",
    "MODEL_PATH = 'Tensorflow/workspace/models'\n",
    "\n",
    "# Create model directory\n",
    "os.makedirs(os.path.join(MODEL_PATH, CUSTOM_MODEL_NAME), exist_ok=True)\n",
    "\n",
    "# Copy pipeline.config\n",
    "shutil.copy(\n",
    "    os.path.join(PRETRAINED_MODEL_PATH, 'ssd_mobilenet_v2_fpnlite_320x320_coco17_tpu-8', 'pipeline.config'),\n",
    "    os.path.join(MODEL_PATH, CUSTOM_MODEL_NAME)\n",
    ")\n"
   ]
  },
  {
   "cell_type": "markdown",
   "metadata": {},
   "source": [
    "# 5. Update Config For Transfer Learning"
   ]
  },
  {
   "cell_type": "code",
   "execution_count": 16,
   "metadata": {},
   "outputs": [],
   "source": [
    "import tensorflow as tf\n",
    "from object_detection.utils import config_util\n",
    "from object_detection.protos import pipeline_pb2\n",
    "from google.protobuf import text_format"
   ]
  },
  {
   "cell_type": "code",
   "execution_count": 17,
   "metadata": {},
   "outputs": [],
   "source": [
    "CONFIG_PATH = MODEL_PATH+'/'+CUSTOM_MODEL_NAME+'/pipeline.config'"
   ]
  },
  {
   "cell_type": "code",
   "execution_count": 18,
   "metadata": {},
   "outputs": [],
   "source": [
    "from object_detection.utils import config_util\n",
    "CONFIG_PATH = MODEL_PATH+'/'+CUSTOM_MODEL_NAME+'/pipeline.config'\n",
    "config = config_util.get_configs_from_pipeline_file(CONFIG_PATH)"
   ]
  },
  {
   "cell_type": "code",
   "execution_count": 19,
   "metadata": {},
   "outputs": [
    {
     "data": {
      "text/plain": [
       "{'model': ssd {\n",
       "   num_classes: 90\n",
       "   image_resizer {\n",
       "     fixed_shape_resizer {\n",
       "       height: 320\n",
       "       width: 320\n",
       "     }\n",
       "   }\n",
       "   feature_extractor {\n",
       "     type: \"ssd_mobilenet_v2_fpn_keras\"\n",
       "     depth_multiplier: 1.0\n",
       "     min_depth: 16\n",
       "     conv_hyperparams {\n",
       "       regularizer {\n",
       "         l2_regularizer {\n",
       "           weight: 3.9999998989515007e-05\n",
       "         }\n",
       "       }\n",
       "       initializer {\n",
       "         random_normal_initializer {\n",
       "           mean: 0.0\n",
       "           stddev: 0.009999999776482582\n",
       "         }\n",
       "       }\n",
       "       activation: RELU_6\n",
       "       batch_norm {\n",
       "         decay: 0.996999979019165\n",
       "         scale: true\n",
       "         epsilon: 0.0010000000474974513\n",
       "       }\n",
       "     }\n",
       "     use_depthwise: true\n",
       "     override_base_feature_extractor_hyperparams: true\n",
       "     fpn {\n",
       "       min_level: 3\n",
       "       max_level: 7\n",
       "       additional_layer_depth: 128\n",
       "     }\n",
       "   }\n",
       "   box_coder {\n",
       "     faster_rcnn_box_coder {\n",
       "       y_scale: 10.0\n",
       "       x_scale: 10.0\n",
       "       height_scale: 5.0\n",
       "       width_scale: 5.0\n",
       "     }\n",
       "   }\n",
       "   matcher {\n",
       "     argmax_matcher {\n",
       "       matched_threshold: 0.5\n",
       "       unmatched_threshold: 0.5\n",
       "       ignore_thresholds: false\n",
       "       negatives_lower_than_unmatched: true\n",
       "       force_match_for_each_row: true\n",
       "       use_matmul_gather: true\n",
       "     }\n",
       "   }\n",
       "   similarity_calculator {\n",
       "     iou_similarity {\n",
       "     }\n",
       "   }\n",
       "   box_predictor {\n",
       "     weight_shared_convolutional_box_predictor {\n",
       "       conv_hyperparams {\n",
       "         regularizer {\n",
       "           l2_regularizer {\n",
       "             weight: 3.9999998989515007e-05\n",
       "           }\n",
       "         }\n",
       "         initializer {\n",
       "           random_normal_initializer {\n",
       "             mean: 0.0\n",
       "             stddev: 0.009999999776482582\n",
       "           }\n",
       "         }\n",
       "         activation: RELU_6\n",
       "         batch_norm {\n",
       "           decay: 0.996999979019165\n",
       "           scale: true\n",
       "           epsilon: 0.0010000000474974513\n",
       "         }\n",
       "       }\n",
       "       depth: 128\n",
       "       num_layers_before_predictor: 4\n",
       "       kernel_size: 3\n",
       "       class_prediction_bias_init: -4.599999904632568\n",
       "       share_prediction_tower: true\n",
       "       use_depthwise: true\n",
       "     }\n",
       "   }\n",
       "   anchor_generator {\n",
       "     multiscale_anchor_generator {\n",
       "       min_level: 3\n",
       "       max_level: 7\n",
       "       anchor_scale: 4.0\n",
       "       aspect_ratios: 1.0\n",
       "       aspect_ratios: 2.0\n",
       "       aspect_ratios: 0.5\n",
       "       scales_per_octave: 2\n",
       "     }\n",
       "   }\n",
       "   post_processing {\n",
       "     batch_non_max_suppression {\n",
       "       score_threshold: 9.99999993922529e-09\n",
       "       iou_threshold: 0.6000000238418579\n",
       "       max_detections_per_class: 100\n",
       "       max_total_detections: 100\n",
       "       use_static_shapes: false\n",
       "     }\n",
       "     score_converter: SIGMOID\n",
       "   }\n",
       "   normalize_loss_by_num_matches: true\n",
       "   loss {\n",
       "     localization_loss {\n",
       "       weighted_smooth_l1 {\n",
       "       }\n",
       "     }\n",
       "     classification_loss {\n",
       "       weighted_sigmoid_focal {\n",
       "         gamma: 2.0\n",
       "         alpha: 0.25\n",
       "       }\n",
       "     }\n",
       "     classification_weight: 1.0\n",
       "     localization_weight: 1.0\n",
       "   }\n",
       "   encode_background_as_zeros: true\n",
       "   normalize_loc_loss_by_codesize: true\n",
       "   inplace_batchnorm_update: true\n",
       "   freeze_batchnorm: false\n",
       " },\n",
       " 'train_config': batch_size: 128\n",
       " data_augmentation_options {\n",
       "   random_horizontal_flip {\n",
       "   }\n",
       " }\n",
       " data_augmentation_options {\n",
       "   random_crop_image {\n",
       "     min_object_covered: 0.0\n",
       "     min_aspect_ratio: 0.75\n",
       "     max_aspect_ratio: 3.0\n",
       "     min_area: 0.75\n",
       "     max_area: 1.0\n",
       "     overlap_thresh: 0.0\n",
       "   }\n",
       " }\n",
       " sync_replicas: true\n",
       " optimizer {\n",
       "   momentum_optimizer {\n",
       "     learning_rate {\n",
       "       cosine_decay_learning_rate {\n",
       "         learning_rate_base: 0.07999999821186066\n",
       "         total_steps: 50000\n",
       "         warmup_learning_rate: 0.026666000485420227\n",
       "         warmup_steps: 1000\n",
       "       }\n",
       "     }\n",
       "     momentum_optimizer_value: 0.8999999761581421\n",
       "   }\n",
       "   use_moving_average: false\n",
       " }\n",
       " fine_tune_checkpoint: \"PATH_TO_BE_CONFIGURED\"\n",
       " num_steps: 50000\n",
       " startup_delay_steps: 0.0\n",
       " replicas_to_aggregate: 8\n",
       " max_number_of_boxes: 100\n",
       " unpad_groundtruth_tensors: false\n",
       " fine_tune_checkpoint_type: \"classification\"\n",
       " fine_tune_checkpoint_version: V2,\n",
       " 'train_input_config': label_map_path: \"PATH_TO_BE_CONFIGURED\"\n",
       " tf_record_input_reader {\n",
       "   input_path: \"PATH_TO_BE_CONFIGURED\"\n",
       " },\n",
       " 'eval_config': metrics_set: \"coco_detection_metrics\"\n",
       " use_moving_averages: false,\n",
       " 'eval_input_configs': [label_map_path: \"PATH_TO_BE_CONFIGURED\"\n",
       " shuffle: false\n",
       " num_epochs: 1\n",
       " tf_record_input_reader {\n",
       "   input_path: \"PATH_TO_BE_CONFIGURED\"\n",
       " }\n",
       " ],\n",
       " 'eval_input_config': label_map_path: \"PATH_TO_BE_CONFIGURED\"\n",
       " shuffle: false\n",
       " num_epochs: 1\n",
       " tf_record_input_reader {\n",
       "   input_path: \"PATH_TO_BE_CONFIGURED\"\n",
       " }}"
      ]
     },
     "execution_count": 19,
     "metadata": {},
     "output_type": "execute_result"
    }
   ],
   "source": [
    "config"
   ]
  },
  {
   "cell_type": "code",
   "execution_count": 20,
   "metadata": {},
   "outputs": [],
   "source": [
    "pipeline_config = pipeline_pb2.TrainEvalPipelineConfig()\n",
    "with tf.io.gfile.GFile(CONFIG_PATH, \"r\") as f:                                                                                                                                                                                                                     \n",
    "    proto_str = f.read()                                                                                                                                                                                                                                          \n",
    "    text_format.Merge(proto_str, pipeline_config)  "
   ]
  },
  {
   "cell_type": "code",
   "execution_count": 21,
   "metadata": {},
   "outputs": [],
   "source": [
    "pipeline_config.model.ssd.num_classes = 12\n",
    "pipeline_config.train_config.batch_size = 4\n",
    "pipeline_config.train_config.fine_tune_checkpoint = PRETRAINED_MODEL_PATH+'/ssd_mobilenet_v2_fpnlite_320x320_coco17_tpu-8/checkpoint/ckpt-0'\n",
    "pipeline_config.train_config.fine_tune_checkpoint_type = \"detection\"\n",
    "pipeline_config.train_input_reader.label_map_path= ANNOTATION_PATH + '/label_map.pbtxt'\n",
    "pipeline_config.train_input_reader.tf_record_input_reader.input_path[:] = [ANNOTATION_PATH + '/train.record']\n",
    "pipeline_config.eval_input_reader[0].label_map_path = ANNOTATION_PATH + '/label_map.pbtxt'\n",
    "pipeline_config.eval_input_reader[0].tf_record_input_reader.input_path[:] = [ANNOTATION_PATH + '/test.record']"
   ]
  },
  {
   "cell_type": "code",
   "execution_count": 22,
   "metadata": {},
   "outputs": [],
   "source": [
    "config_text = text_format.MessageToString(pipeline_config)                                                                                                                                                                                                        \n",
    "with tf.io.gfile.GFile(CONFIG_PATH, \"wb\") as f:                                                                                                                                                                                                                     \n",
    "    f.write(config_text)   "
   ]
  },
  {
   "cell_type": "markdown",
   "metadata": {},
   "source": [
    "# 6. Train the model"
   ]
  },
  {
   "cell_type": "code",
   "execution_count": 24,
   "metadata": {
    "scrolled": true
   },
   "outputs": [
    {
     "name": "stdout",
     "output_type": "stream",
     "text": [
      "python C:\\Users\\khema\\RealTimeObjectDetection-main\\Tensorflow\\models/research/object_detection/model_main_tf2.py --model_dir=Tensorflow/workspace/models/my_ssd_mobnet --pipeline_config_path=Tensorflow/workspace/models/my_ssd_mobnet/pipeline.config --num_train_steps=10000\n"
     ]
    }
   ],
   "source": [
    "print(\"\"\"python {}/research/object_detection/model_main_tf2.py --model_dir={}/{} --pipeline_config_path={}/{}/pipeline.config --num_train_steps=10000\"\"\".format(APIMODEL_PATH, MODEL_PATH,CUSTOM_MODEL_NAME,MODEL_PATH,CUSTOM_MODEL_NAME))"
   ]
  },
  {
   "cell_type": "markdown",
   "metadata": {},
   "source": [
    "# 7. Load Train Model From Checkpoint"
   ]
  },
  {
   "cell_type": "code",
   "execution_count": 26,
   "metadata": {},
   "outputs": [],
   "source": [
    "import os\n",
    "os.environ['PYTHONPATH'] = (\n",
    "    \"C:/Users/khema/RealTimeObjectDetection-main/Tensorflow/models;\"\n",
    "    \"C:/Users/khema/RealTimeObjectDetection-main/Tensorflow/models/research;\"\n",
    "    \"C:/Users/khema/RealTimeObjectDetection-main/Tensorflow/models/research/slim\"\n",
    ")\n",
    "import os\n",
    "from object_detection.utils import label_map_util\n",
    "from object_detection.utils import visualization_utils as viz_utils\n",
    "from object_detection.builders import model_builder"
   ]
  },
  {
   "cell_type": "code",
   "execution_count": 27,
   "metadata": {},
   "outputs": [],
   "source": [
    "# Load pipeline config and build a detection model\n",
    "configs = config_util.get_configs_from_pipeline_file(CONFIG_PATH)\n",
    "detection_model = model_builder.build(model_config=configs['model'], is_training=False)\n",
    "\n",
    "# Restore checkpoint\n",
    "ckpt = tf.compat.v2.train.Checkpoint(model=detection_model)\n",
    "ckpt.restore(os.path.join(CHECKPOINT_PATH, 'ckpt-11')).expect_partial()\n",
    "\n",
    "@tf.function\n",
    "def detect_fn(image):\n",
    "    image, shapes = detection_model.preprocess(image)\n",
    "    prediction_dict = detection_model.predict(image, shapes)\n",
    "    detections = detection_model.postprocess(prediction_dict, shapes)\n",
    "    return detections"
   ]
  },
  {
   "cell_type": "markdown",
   "metadata": {},
   "source": [
    "# 8. Detect in Real-Time"
   ]
  },
  {
   "cell_type": "code",
   "execution_count": 29,
   "metadata": {},
   "outputs": [],
   "source": [
    "import cv2\n",
    "import numpy as np\n",
    "import tensorflow as tf\n",
    "from object_detection.utils import label_map_util, visualization_utils as viz_utils\n",
    "from PIL import Image, ImageFont, ImageDraw\n",
    "\n",
    "# Load label map\n",
    "category_index = label_map_util.create_category_index_from_labelmap(ANNOTATION_PATH+'/label_map.pbtxt')\n",
    "\n",
    "# Setup capture\n",
    "cap = cv2.VideoCapture(0)\n",
    "width = int(cap.get(cv2.CAP_PROP_FRAME_WIDTH))\n",
    "height = int(cap.get(cv2.CAP_PROP_FRAME_HEIGHT))\n",
    "\n",
    "# Language selection (Default: English)\n",
    "languages = {'E': 'English', 'T': 'Telugu', 'H': 'Hindi'}\n",
    "selected_language = 'E'\n",
    "\n",
    "# Translations for detected gestures\n",
    "translations = {\n",
    "    \"hello\": {\"E\": \"Hello\", \"T\": \"హలో\", \"H\": \"नमस्ते\"},\n",
    "    \"yes\": {\"E\": \"Yes\", \"T\": \"అవును\", \"H\": \"हाँ\"},\n",
    "    \"no\": {\"E\": \"No\", \"T\": \"కాదు\", \"H\": \"नहीं\"},\n",
    "    \"thanks\": {\"E\": \"Thanks\", \"T\": \"ధన్యవాదాలు\", \"H\": \"धन्यवाद\"},\n",
    "    \"i love you\": {\"E\": \"I love you\", \"T\": \"నేను నిన్ను ప్రేమిస్తున్నాను\", \"H\": \"मैं तुमसे प्यार करता हूँ\"},\n",
    "    \"help\": {\"E\": \"Help\", \"T\": \"సహాయం\", \"H\": \"मदद\"},\n",
    "    \"together\": {\"E\": \"Together\", \"T\": \"కలిసి\", \"H\": \"साथ\"},\n",
    "    \"good luck\": {\"E\": \"Good luck\", \"T\": \"శుభవార్త\", \"H\": \"शुभकामनाएँ\"},\n",
    "    \"good\": {\"E\": \"Good\", \"T\": \"మంచి\", \"H\": \"अच्छा\"},\n",
    "    \"please\": {\"E\": \"Please\", \"T\": \"దయచేసి\", \"H\": \"कृपया\"},\n",
    "    \"hope\": {\"E\": \"Hope\", \"T\": \"ఆశ\", \"H\": \"आशा\"},\n",
    "    \"danger\": {\"E\": \"Danger\", \"T\": \"ప్రమాదం\", \"H\": \"खतरा\"}\n",
    "}\n",
    "\n",
    "# Load fonts\n",
    "telugu_font_path = r\"C:\\Users\\khema\\RealTimeObjectDetection-main\\fonts\\NotoSansTelugu-VariableFont_wdth,wght.ttf\"\n",
    "hindi_font_path = r\"C:\\Users\\khema\\RealTimeObjectDetection-main\\fonts\\NotoSansDevanagari-VariableFont_wdth,wght.ttf\"\n",
    "\n",
    "english_font = ImageFont.truetype(\"arial.ttf\", 40)  # Windows default font\n",
    "telugu_font = ImageFont.truetype(telugu_font_path, 40)\n",
    "hindi_font = ImageFont.truetype(hindi_font_path, 40)\n",
    "\n",
    "# Dictionary to map language to font\n",
    "fonts = {\"E\": english_font, \"T\": telugu_font, \"H\": hindi_font}\n",
    "\n",
    "while True:\n",
    "    ret, frame = cap.read()\n",
    "    image_np = np.array(frame)\n",
    "    \n",
    "    input_tensor = tf.convert_to_tensor(np.expand_dims(image_np, 0), dtype=tf.float32)\n",
    "    detections = detect_fn(input_tensor)\n",
    "    \n",
    "    num_detections = int(detections.pop('num_detections'))\n",
    "    detections = {key: value[0, :num_detections].numpy() for key, value in detections.items()}\n",
    "    detections['num_detections'] = num_detections\n",
    "    detections['detection_classes'] = detections['detection_classes'].astype(np.int64)\n",
    "\n",
    "    label_id_offset = 1\n",
    "    image_np_with_detections = image_np.copy()\n",
    "\n",
    "    # Get detected class\n",
    "    detected_class_id = detections['detection_classes'][0] + label_id_offset\n",
    "    detected_class_name = category_index[detected_class_id]['name']\n",
    "    \n",
    "    # Get translation based on selected language\n",
    "    translated_text = translations.get(detected_class_name, {}).get(selected_language, detected_class_name)\n",
    "\n",
    "    # Convert OpenCV image to PIL\n",
    "    image_pil = Image.fromarray(cv2.cvtColor(image_np_with_detections, cv2.COLOR_BGR2RGB))\n",
    "    draw = ImageDraw.Draw(image_pil)\n",
    "\n",
    "    # Display selected language\n",
    "    draw.text((10, 30), f\"Language: {languages[selected_language]}\", font=english_font, fill=(0, 255, 0))\n",
    "\n",
    "    # Display detected text in the selected language\n",
    "    draw.text((10, height - 60), f\"Detected: {translated_text}\", font=fonts[selected_language], fill=(0, 255, 0))\n",
    "\n",
    "    # Convert PIL image back to OpenCV format\n",
    "    image_np_with_detections = cv2.cvtColor(np.array(image_pil), cv2.COLOR_RGB2BGR)\n",
    "\n",
    "    cv2.imshow('Sign Language Detection', cv2.resize(image_np_with_detections, (800, 600)))\n",
    "\n",
    "    # Keypress handling for switching languages\n",
    "    key = cv2.waitKey(1) & 0xFF\n",
    "    if key == ord('q'):\n",
    "        cap.release()\n",
    "        break\n",
    "    elif key in [ord('E'), ord('e')]:\n",
    "        selected_language = 'E'\n",
    "    elif key in [ord('T'), ord('t')]:\n",
    "        selected_language = 'T'\n",
    "    elif key in [ord('H'), ord('h')]:\n",
    "        selected_language = 'H'\n"
   ]
  },
  {
   "cell_type": "code",
   "execution_count": 32,
   "metadata": {},
   "outputs": [],
   "source": [
    "import cv2 \n",
    "import numpy as np\n",
    "import tensorflow as tf\n",
    "from object_detection.utils import label_map_util, visualization_utils as viz_utils\n",
    "\n",
    "# Load label map\n",
    "category_index = label_map_util.create_category_index_from_labelmap(ANNOTATION_PATH+'/label_map.pbtxt')\n",
    "\n",
    "# Setup capture\n",
    "cap = cv2.VideoCapture(0)\n",
    "width = int(cap.get(cv2.CAP_PROP_FRAME_WIDTH))\n",
    "height = int(cap.get(cv2.CAP_PROP_FRAME_HEIGHT))\n",
    "\n",
    "while True: \n",
    "    ret, frame = cap.read()\n",
    "    if not ret:\n",
    "        break\n",
    "\n",
    "    image_np = np.array(frame)\n",
    "    \n",
    "    input_tensor = tf.convert_to_tensor(np.expand_dims(image_np, 0), dtype=tf.float32)\n",
    "    detections = detect_fn(input_tensor)\n",
    "    \n",
    "    num_detections = int(detections.pop('num_detections'))\n",
    "    detections = {key: value[0, :num_detections].numpy()\n",
    "                  for key, value in detections.items()}\n",
    "    detections['num_detections'] = num_detections\n",
    "\n",
    "    # detection_classes should be ints\n",
    "    detections['detection_classes'] = detections['detection_classes'].astype(np.int64)\n",
    "\n",
    "    label_id_offset = 1\n",
    "    image_np_with_detections = image_np.copy()\n",
    "\n",
    "    # Get detected sign with highest confidence\n",
    "    max_score_idx = np.argmax(detections['detection_scores'])\n",
    "    detected_class_id = detections['detection_classes'][max_score_idx] + label_id_offset\n",
    "    detected_score = detections['detection_scores'][max_score_idx]\n",
    "\n",
    "    detected_sign = category_index[detected_class_id]['name'] if detected_score > 0.5 else \"\"\n",
    "\n",
    "    # Draw detection boxes but without labels\n",
    "    viz_utils.visualize_boxes_and_labels_on_image_array(\n",
    "        image_np_with_detections,\n",
    "        detections['detection_boxes'],\n",
    "        detections['detection_classes']+label_id_offset,\n",
    "        detections['detection_scores'],\n",
    "        category_index,\n",
    "        use_normalized_coordinates=True,\n",
    "        max_boxes_to_draw=5,\n",
    "        min_score_thresh=0.5,\n",
    "        agnostic_mode=False,\n",
    "        line_thickness=3,\n",
    "        skip_labels=True,  # Skip labels from the bounding box\n",
    "    )\n",
    "\n",
    "    # Create chat box at the bottom\n",
    "    overlay = image_np_with_detections.copy()\n",
    "    cv2.rectangle(overlay, (0, height - 50), (width, height), (0, 0, 0), -1)  # Black rectangle\n",
    "    alpha = 0.5  # Transparency level\n",
    "    cv2.addWeighted(overlay, alpha, image_np_with_detections, 1 - alpha, 0, image_np_with_detections)\n",
    "\n",
    "    # Display detected sign in chat box\n",
    "    if detected_sign:\n",
    "        cv2.putText(image_np_with_detections, f\"Detected: {detected_sign}\", (20, height - 15),\n",
    "                    cv2.FONT_HERSHEY_SIMPLEX, 1, (255, 255, 255), 2, cv2.LINE_AA)\n",
    "\n",
    "    cv2.imshow('Sign Language Detection', cv2.resize(image_np_with_detections, (800, 600)))\n",
    "    \n",
    "    if cv2.waitKey(1) & 0xFF == ord('q'):\n",
    "        break\n",
    "\n",
    "cap.release()\n",
    "cv2.destroyAllWindows()\n"
   ]
  },
  {
   "cell_type": "code",
   "execution_count": null,
   "metadata": {},
   "outputs": [],
   "source": []
  }
 ],
 "metadata": {
  "kernelspec": {
   "display_name": "Python (tensorflow)",
   "language": "python",
   "name": "tensorflow"
  },
  "language_info": {
   "codemirror_mode": {
    "name": "ipython",
    "version": 3
   },
   "file_extension": ".py",
   "mimetype": "text/x-python",
   "name": "python",
   "nbconvert_exporter": "python",
   "pygments_lexer": "ipython3",
   "version": "3.9.15"
  }
 },
 "nbformat": 4,
 "nbformat_minor": 4
}
